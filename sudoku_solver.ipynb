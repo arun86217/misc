{
 "cells": [
  {
   "cell_type": "code",
   "execution_count": 2,
   "metadata": {},
   "outputs": [],
   "source": [
    "import numpy as np"
   ]
  },
  {
   "cell_type": "code",
   "execution_count": 3,
   "metadata": {},
   "outputs": [],
   "source": [
    "arr = np.random.rand(9,9)"
   ]
  },
  {
   "cell_type": "code",
   "execution_count": 9,
   "metadata": {},
   "outputs": [],
   "source": [
    "(r,c) = arr.shape"
   ]
  },
  {
   "cell_type": "code",
   "execution_count": 26,
   "metadata": {},
   "outputs": [],
   "source": [
    "rc=[]\n",
    "cc=[]"
   ]
  },
  {
   "cell_type": "code",
   "execution_count": 27,
   "metadata": {
    "scrolled": true
   },
   "outputs": [
    {
     "name": "stdout",
     "output_type": "stream",
     "text": [
      "[0, 1, 2, 3, 4, 5, 6, 7, 8]\n",
      "[1, 2, 3, 4, 5, 6, 7, 8, 9]\n",
      "[2, 3, 4, 5, 6, 7, 8, 9, 10]\n",
      "[3, 4, 5, 6, 7, 8, 9, 10, 11]\n",
      "[4, 5, 6, 7, 8, 9, 10, 11, 12]\n",
      "[5, 6, 7, 8, 9, 10, 11, 12, 13]\n",
      "[6, 7, 8, 9, 10, 11, 12, 13, 14]\n",
      "[7, 8, 9, 10, 11, 12, 13, 14, 15]\n",
      "[8, 9, 10, 11, 12, 13, 14, 15, 16]\n"
     ]
    }
   ],
   "source": [
    "for i in range(r):\n",
    "    rc=[]\n",
    "    for j in range(c):\n",
    "        rc.append((i+j))      \n",
    "    cc.append(rc)\n",
    "    print(rc)"
   ]
  },
  {
   "cell_type": "code",
   "execution_count": 30,
   "metadata": {},
   "outputs": [],
   "source": [
    "import pandas as pd"
   ]
  },
  {
   "cell_type": "code",
   "execution_count": 43,
   "metadata": {},
   "outputs": [],
   "source": [
    "s = pd.read_excel(r'C:\\Users\\magggi\\Desktop\\sudoku.xlsx')"
   ]
  },
  {
   "cell_type": "code",
   "execution_count": 44,
   "metadata": {},
   "outputs": [],
   "source": [
    "s.set_index(s['x'],inplace=True)"
   ]
  },
  {
   "cell_type": "code",
   "execution_count": 54,
   "metadata": {},
   "outputs": [],
   "source": [
    "s=s.drop('x',axis='columns')"
   ]
  },
  {
   "cell_type": "code",
   "execution_count": 196,
   "metadata": {},
   "outputs": [],
   "source": [
    "cols = s.columns.to_list()"
   ]
  },
  {
   "cell_type": "code",
   "execution_count": 244,
   "metadata": {},
   "outputs": [
    {
     "name": "stdout",
     "output_type": "stream",
     "text": [
      "[9, 4, 0, 0, 6, 0, 0, 7, 0]\n",
      "[2, 6, 1, 5, 7, 0, 9, 0, 0]\n",
      "[0, 0, 0, 0, 2, 0, 6, 0, 1]\n",
      "[6, 0, 7, 0, 0, 2, 3, 0, 0]\n",
      "[1, 0, 0, 7, 0, 0, 2, 0, 6]\n",
      "[0, 3, 0, 8, 0, 6, 0, 0, 4]\n",
      "[0, 0, 9, 2, 5, 0, 0, 6, 0]\n",
      "[0, 0, 0, 0, 8, 0, 1, 0, 9]\n",
      "[0, 0, 6, 0, 0, 3, 4, 0, 0]\n"
     ]
    }
   ],
   "source": [
    "col_wise_index =[]\n",
    "for i in cols:\n",
    "    p=s[i].values.tolist()\n",
    "    print(p)\n",
    "    p=set(p)-{0}\n",
    "    col_wise_index.append((i,len(p)))"
   ]
  },
  {
   "cell_type": "code",
   "execution_count": 245,
   "metadata": {},
   "outputs": [],
   "source": [
    "row_wise_index =[]\n",
    "for i in cols:\n",
    "    p=s.loc[i].values.tolist()\n",
    "    p=set(p)-{0}\n",
    "    row_wise_index.append((i,len(p)))"
   ]
  },
  {
   "cell_type": "code",
   "execution_count": 246,
   "metadata": {},
   "outputs": [
    {
     "data": {
      "text/plain": [
       "([('g', 6),\n",
       "  ('e', 5),\n",
       "  ('a', 4),\n",
       "  ('c', 4),\n",
       "  ('d', 4),\n",
       "  ('i', 4),\n",
       "  ('b', 3),\n",
       "  ('f', 3),\n",
       "  ('h', 2)],\n",
       " [('b', 6),\n",
       "  ('a', 4),\n",
       "  ('d', 4),\n",
       "  ('e', 4),\n",
       "  ('f', 4),\n",
       "  ('g', 4),\n",
       "  ('c', 3),\n",
       "  ('h', 3),\n",
       "  ('i', 3)])"
      ]
     },
     "execution_count": 246,
     "metadata": {},
     "output_type": "execute_result"
    }
   ],
   "source": [
    "col_wise_index.sort(key = lambda x:x[1] ,reverse =True)\n",
    "row_wise_index.sort(key = lambda x:x[1], reverse=True )\n",
    "row_wise_index,col_wise_index"
   ]
  },
  {
   "cell_type": "code",
   "execution_count": 247,
   "metadata": {},
   "outputs": [],
   "source": [
    "col= s[col_wise_index[0][0]].to_list()\n",
    "col= set(col)-{0}"
   ]
  },
  {
   "cell_type": "code",
   "execution_count": 259,
   "metadata": {},
   "outputs": [
    {
     "data": {
      "text/plain": [
       "[2, 6, 1, 5, 7, 0, 9, 0, 0]"
      ]
     },
     "execution_count": 259,
     "metadata": {},
     "output_type": "execute_result"
    }
   ],
   "source": [
    "col= s[col_wise_index[0][0]].to_list()\n",
    "col"
   ]
  },
  {
   "cell_type": "code",
   "execution_count": 268,
   "metadata": {},
   "outputs": [
    {
     "data": {
      "text/plain": [
       "[5, 7, 8]"
      ]
     },
     "execution_count": 268,
     "metadata": {},
     "output_type": "execute_result"
    }
   ],
   "source": [
    "col= s[col_wise_index[0][0]].to_list()\n",
    "zeros=[]\n",
    "for i,j in enumerate(col):\n",
    "    if j==0:\n",
    "        zeros.append(i)\n",
    "zeros"
   ]
  },
  {
   "cell_type": "code",
   "execution_count": 270,
   "metadata": {},
   "outputs": [],
   "source": [
    "row= s.iloc[5]\n",
    "row= set(row)-{0}"
   ]
  },
  {
   "cell_type": "code",
   "execution_count": 271,
   "metadata": {},
   "outputs": [],
   "source": [
    "cubes = s.loc['a':'c','a':'c']"
   ]
  },
  {
   "cell_type": "code",
   "execution_count": 272,
   "metadata": {},
   "outputs": [],
   "source": [
    "x = cubes.values.tolist()"
   ]
  },
  {
   "cell_type": "code",
   "execution_count": 273,
   "metadata": {},
   "outputs": [],
   "source": [
    "z=[]\n",
    "for  i in x:\n",
    "    for j in i:\n",
    "        z.append(j)"
   ]
  },
  {
   "cell_type": "code",
   "execution_count": 274,
   "metadata": {},
   "outputs": [],
   "source": [
    "z=set(z)-{0}"
   ]
  },
  {
   "cell_type": "code",
   "execution_count": 275,
   "metadata": {},
   "outputs": [
    {
     "data": {
      "text/plain": [
       "{1, 2, 4, 6, 9}"
      ]
     },
     "execution_count": 275,
     "metadata": {},
     "output_type": "execute_result"
    }
   ],
   "source": [
    "z"
   ]
  },
  {
   "cell_type": "code",
   "execution_count": 276,
   "metadata": {},
   "outputs": [],
   "source": [
    "total =set([1,2,3,4,5,6,7,8,9])"
   ]
  },
  {
   "cell_type": "code",
   "execution_count": 277,
   "metadata": {},
   "outputs": [
    {
     "ename": "TypeError",
     "evalue": "unsupported operand type(s) for -: 'set' and 'list'",
     "output_type": "error",
     "traceback": [
      "\u001b[1;31m---------------------------------------------------------------------------\u001b[0m",
      "\u001b[1;31mTypeError\u001b[0m                                 Traceback (most recent call last)",
      "\u001b[1;32m<ipython-input-277-24decff7bf85>\u001b[0m in \u001b[0;36m<module>\u001b[1;34m\u001b[0m\n\u001b[1;32m----> 1\u001b[1;33m \u001b[0mdd\u001b[0m \u001b[1;33m=\u001b[0m \u001b[0mtotal\u001b[0m \u001b[1;33m-\u001b[0m \u001b[0mcol\u001b[0m \u001b[1;33m-\u001b[0m \u001b[0mrow\u001b[0m \u001b[1;33m-\u001b[0m \u001b[0mz\u001b[0m\u001b[1;33m\u001b[0m\u001b[1;33m\u001b[0m\u001b[0m\n\u001b[0m",
      "\u001b[1;31mTypeError\u001b[0m: unsupported operand type(s) for -: 'set' and 'list'"
     ]
    }
   ],
   "source": [
    "dd = total - col - row - z"
   ]
  },
  {
   "cell_type": "code",
   "execution_count": 195,
   "metadata": {},
   "outputs": [
    {
     "data": {
      "text/plain": [
       "{3, 5, 8}"
      ]
     },
     "execution_count": 195,
     "metadata": {},
     "output_type": "execute_result"
    }
   ],
   "source": [
    "dd"
   ]
  }
 ],
 "metadata": {
  "kernelspec": {
   "display_name": "Python 3",
   "language": "python",
   "name": "python3"
  },
  "language_info": {
   "codemirror_mode": {
    "name": "ipython",
    "version": 3
   },
   "file_extension": ".py",
   "mimetype": "text/x-python",
   "name": "python",
   "nbconvert_exporter": "python",
   "pygments_lexer": "ipython3",
   "version": "3.8.5"
  }
 },
 "nbformat": 4,
 "nbformat_minor": 4
}
